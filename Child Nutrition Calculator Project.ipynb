{
 "cells": [
  {
   "cell_type": "markdown",
   "id": "4770d851",
   "metadata": {},
   "source": [
    "## <font color =\"#008b8b\"> WELCOME TO CHILD NUTRITION CALCULATOR🧑🏻‍"
   ]
  },
  {
   "cell_type": "markdown",
   "id": "e81ef2b1",
   "metadata": {},
   "source": [
    "##### <font color = \"#4682b4\">*Let’s put ourselves in the shoes of a childcare provider. As a childcare provider, we have an essential role inchildren’s lives by helping them learn and grow. Youhelp children get the nourishment and energy theyneed to learn and grow by providing healthy meals.Also, keep in mind that preschoolers who eat a varietyof healthy foods and play actively several times everyday are less likely to be overweight or obese*"
   ]
  },
  {
   "cell_type": "code",
   "execution_count": 1,
   "id": "a933c3b8",
   "metadata": {},
   "outputs": [
    {
     "name": "stdout",
     "output_type": "stream",
     "text": [
      "WELCOME TO HEALTH CALCULATOR👨‍⚕️\n",
      "\n",
      "Please provide details to know the health status of your child\n"
     ]
    }
   ],
   "source": [
    "print(\"WELCOME TO HEALTH CALCULATOR👨‍⚕️\\n\\n\" \"Please provide details to know the health status of your child\")"
   ]
  },
  {
   "cell_type": "markdown",
   "id": "a020292e",
   "metadata": {},
   "source": [
    "### Providing necessary details of child"
   ]
  },
  {
   "cell_type": "code",
   "execution_count": 4,
   "id": "1be4c9b9",
   "metadata": {},
   "outputs": [
    {
     "name": "stdout",
     "output_type": "stream",
     "text": [
      "Name of the child?  SHIV\n",
      "Age?  7\n",
      "Height in (inch)?  45\n",
      "Weight in (pounds)?  60\n"
     ]
    }
   ],
   "source": [
    "name = input(\"Name of the child?  \")\n",
    "age = int(input(\"Age?  \"))\n",
    "height = float(input(\"Height in (inch)?  \"))\n",
    "weight = float(input(\"Weight in (pounds)?  \"))"
   ]
  },
  {
   "cell_type": "markdown",
   "id": "9451275b",
   "metadata": {},
   "source": [
    "### Getting input of daily calorie consumption of child in (grams):"
   ]
  },
  {
   "cell_type": "code",
   "execution_count": 2,
   "id": "24d40170",
   "metadata": {},
   "outputs": [
    {
     "name": "stdout",
     "output_type": "stream",
     "text": [
      "\n",
      "Now please provide us the details regarding calorie consumption of your child in '(grams)'\n",
      "Milk:300\n",
      "Vegetables:300\n",
      "Meat:300\n",
      "lentis:300\n",
      "Egg:300\n",
      "Rice:300\n"
     ]
    }
   ],
   "source": [
    "print(\"\\nNow please provide us the details regarding calorie consumption of your child in '(grams)'\")\n",
    "milk1 = int(input(\"Milk:\"))\n",
    "veg1 = int(input(\"Vegetables:\"))\n",
    "meat1 = int(input(\"Meat:\"))\n",
    "lentis1 = int(input(\"lentis:\"))\n",
    "egg1 = int(input(\"Egg:\"))\n",
    "rice1 = int(input(\"Rice:\"))"
   ]
  },
  {
   "cell_type": "markdown",
   "id": "f3f32e98",
   "metadata": {},
   "source": [
    "### Now calculating the BMI of the child using standerd BMI formula and providing necessary details wheather the child is ( underweight , overweight , or obese)"
   ]
  },
  {
   "cell_type": "code",
   "execution_count": 5,
   "id": "c81221ab",
   "metadata": {},
   "outputs": [
    {
     "name": "stdout",
     "output_type": "stream",
     "text": [
      "BMI of SHIV is 20.83 and he/she is\n",
      "healthy.\n"
     ]
    }
   ],
   "source": [
    "bmi = weight / (height ** 2) * 703\n",
    "\n",
    "print(f\"BMI of {name} is {bmi:0.2f} and he/she is\")\n",
    "\n",
    "if bmi < 16:\n",
    "    print(\"Severely underweight.\")\n",
    "elif bmi >= 16 and bmi < 18:\n",
    "    print(\"underweight.\")\n",
    "elif bmi >= 18.5 and bmi < 25:\n",
    "    print(\"healthy.\")\n",
    "elif bmi >= 25 and bmi < 30:\n",
    "    print(\"Overweight.\")\n",
    "elif bmi >= 30:\n",
    "    print(\"obese\")"
   ]
  },
  {
   "cell_type": "markdown",
   "id": "217ba0af",
   "metadata": {},
   "source": [
    "### Calculating the daily calorie consumption of child based on the following criteria: \n",
    "#### o Milk: 100 cal/ 100g\n",
    "#### o Egg: 155 cal/ 100g \n",
    "#### o Rice: 130 cal/ 100g \n",
    "#### o Lentils: 113 cal/ 100g \n",
    "#### o Vegetable: 85 cal/100g \n",
    "#### o Meat: 143 cal/ 100g\n",
    "\n",
    "### and getting details of child according to his/her age  weather he/she is nourished or not"
   ]
  },
  {
   "cell_type": "code",
   "execution_count": 7,
   "id": "4de45fcb",
   "metadata": {},
   "outputs": [
    {
     "name": "stdout",
     "output_type": "stream",
     "text": [
      "The Daily Calorie Consumption Of SHIV Is 2178.0 And He/She) Is \n",
      "Nourished\n"
     ]
    }
   ],
   "source": [
    "milk = 100 / 100 * milk1\n",
    "egg = 155 / 100 * egg1\n",
    "rice = 130 / 100 * rice1\n",
    "lentis = 113 / 100 * lentis1\n",
    "vegetable = 85 / 100 * veg1\n",
    "meat = 143 / 100 * meat1\n",
    "\n",
    "total = milk + egg + rice + lentis + vegetable + meat\n",
    "print(f\"The Daily Calorie Consumption Of {name} Is {total} And He/She) Is \")\n",
    "\n",
    "if age > 0 and age <= 2:\n",
    "    total >= 800\n",
    "    print(\"Nourished\")\n",
    "elif age >= 2 and age <= 4:\n",
    "    total >= 1400\n",
    "    print(\"Nourished\")\n",
    "elif age >= 4 and age <= 8:\n",
    "    total >= 1800\n",
    "    print(\"Nourished\")\n",
    "else:\n",
    "    print(\"Not Nourished\")"
   ]
  }
 ],
 "metadata": {
  "kernelspec": {
   "display_name": "Python 3 (ipykernel)",
   "language": "python",
   "name": "python3"
  },
  "language_info": {
   "codemirror_mode": {
    "name": "ipython",
    "version": 3
   },
   "file_extension": ".py",
   "mimetype": "text/x-python",
   "name": "python",
   "nbconvert_exporter": "python",
   "pygments_lexer": "ipython3",
   "version": "3.9.7"
  }
 },
 "nbformat": 4,
 "nbformat_minor": 5
}
